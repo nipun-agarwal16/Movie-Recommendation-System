{
 "cells": [
  {
   "cell_type": "code",
   "execution_count": 4,
   "id": "758484fa-1706-4a3f-904d-8b1d28599371",
   "metadata": {},
   "outputs": [
    {
     "name": "stderr",
     "output_type": "stream",
     "text": [
      "C:\\Users\\Nipun Agarwal\\AppData\\Local\\Temp\\ipykernel_29928\\1783450999.py:5: DtypeWarning: Columns (10) have mixed types. Specify dtype option on import or set low_memory=False.\n",
      "  df4 = pd.read_csv(r'movies_metadata.csv\\\\movies_metadata.csv')\n"
     ]
    },
    {
     "name": "stdout",
     "output_type": "stream",
     "text": [
      "Index(['adult', 'belongs_to_collection', 'budget', 'genres', 'homepage', 'id',\n",
      "       'imdb_id', 'original_language', 'original_title', 'overview',\n",
      "       'popularity', 'poster_path', 'production_companies',\n",
      "       'production_countries', 'release_date', 'revenue', 'runtime',\n",
      "       'spoken_languages', 'status', 'tagline', 'title', 'video',\n",
      "       'vote_average', 'vote_count', 'cast', 'crew', 'keywords'],\n",
      "      dtype='object')\n",
      "(46629, 27)\n"
     ]
    }
   ],
   "source": [
    "import pandas as pd\n",
    "df1 = pd.read_csv('links.csv')\n",
    "df2 = pd.read_csv(r'credits.csv\\\\credits.csv')\n",
    "df3 = pd.read_csv(r'keywords.csv\\\\keywords.csv')\n",
    "df4 = pd.read_csv(r'movies_metadata.csv\\\\movies_metadata.csv')\n",
    "df4['id'] = pd.to_numeric(df4['id'], errors='coerce')\n",
    "df4['id'] = df4[df4['id'].notnull()]['id'].astype('int')\n",
    "newdf = df4.merge(df2, how = 'outer', on = 'id')\n",
    "master = newdf.merge(df3, how = 'outer')\n",
    "df1 = df1[df1['tmdbId'].notnull()]['tmdbId'].astype('int')\n",
    "master = master[master['id'].isin(df1)]\n",
    "print(master.columns)\n",
    "print(master.shape)"
   ]
  },
  {
   "cell_type": "code",
   "execution_count": null,
   "id": "058b7519-014e-421b-8e2a-8a4b9ab5fdbf",
   "metadata": {},
   "outputs": [],
   "source": []
  },
  {
   "cell_type": "code",
   "execution_count": null,
   "id": "2b425327-0498-43c3-95d4-c8decdae3f05",
   "metadata": {},
   "outputs": [],
   "source": []
  },
  {
   "cell_type": "code",
   "execution_count": null,
   "id": "29c3adcf-dfca-4296-8427-076b0a5d047d",
   "metadata": {},
   "outputs": [],
   "source": []
  },
  {
   "cell_type": "code",
   "execution_count": null,
   "id": "f79a6500-9505-4644-bf78-f58f768c13ad",
   "metadata": {},
   "outputs": [],
   "source": []
  }
 ],
 "metadata": {
  "kernelspec": {
   "display_name": "Python 3 (ipykernel)",
   "language": "python",
   "name": "python3"
  },
  "language_info": {
   "codemirror_mode": {
    "name": "ipython",
    "version": 3
   },
   "file_extension": ".py",
   "mimetype": "text/x-python",
   "name": "python",
   "nbconvert_exporter": "python",
   "pygments_lexer": "ipython3",
   "version": "3.12.4"
  }
 },
 "nbformat": 4,
 "nbformat_minor": 5
}
